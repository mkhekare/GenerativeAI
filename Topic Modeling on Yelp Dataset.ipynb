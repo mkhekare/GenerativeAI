{
 "cells": [
  {
   "cell_type": "code",
   "execution_count": 13,
   "id": "26675f0e",
   "metadata": {},
   "outputs": [
    {
     "name": "stderr",
     "output_type": "stream",
     "text": [
      "[nltk_data] Downloading package wordnet to\n",
      "[nltk_data]     C:\\Users\\mukul\\AppData\\Roaming\\nltk_data...\n",
      "[nltk_data]   Package wordnet is already up-to-date!\n",
      "[nltk_data] Downloading package stopwords to\n",
      "[nltk_data]     C:\\Users\\mukul\\AppData\\Roaming\\nltk_data...\n",
      "[nltk_data]   Package stopwords is already up-to-date!\n"
     ]
    }
   ],
   "source": [
    "# Import libraries\n",
    "import pandas as pd\n",
    "import string\n",
    "import spacy\n",
    "import nltk\n",
    "from nltk.corpus import stopwords\n",
    "from gensim import corpora, models # Create the corpora of the words...\n",
    "import pyLDAvis.gensim_models as gensimvis\n",
    "\n",
    "# Load NLTK resources\n",
    "nltk.download('wordnet')\n",
    "nltk.download('stopwords')\n",
    "\n",
    "# Load spaCy model\n",
    "nlp = spacy.load('en_core_web_sm')"
   ]
  },
  {
   "cell_type": "code",
   "execution_count": 30,
   "id": "32d51bed",
   "metadata": {},
   "outputs": [],
   "source": [
    "# Read Yelp review dataset\n",
    "yelp_review = pd.read_csv('train.csv')"
   ]
  },
  {
   "cell_type": "code",
   "execution_count": 51,
   "id": "9032813b",
   "metadata": {},
   "outputs": [],
   "source": [
    "yelp_review = yelp_review.sample(10000)"
   ]
  },
  {
   "cell_type": "code",
   "execution_count": 52,
   "id": "4def4472",
   "metadata": {},
   "outputs": [],
   "source": [
    "yelp_review.to_csv(\"Yelp.csv\", index = False)"
   ]
  },
  {
   "cell_type": "code",
   "execution_count": 32,
   "id": "d49a286f",
   "metadata": {},
   "outputs": [
    {
     "data": {
      "text/html": [
       "<div>\n",
       "<style scoped>\n",
       "    .dataframe tbody tr th:only-of-type {\n",
       "        vertical-align: middle;\n",
       "    }\n",
       "\n",
       "    .dataframe tbody tr th {\n",
       "        vertical-align: top;\n",
       "    }\n",
       "\n",
       "    .dataframe thead th {\n",
       "        text-align: right;\n",
       "    }\n",
       "</style>\n",
       "<table border=\"1\" class=\"dataframe\">\n",
       "  <thead>\n",
       "    <tr style=\"text-align: right;\">\n",
       "      <th></th>\n",
       "      <th>Topic</th>\n",
       "      <th>Text</th>\n",
       "    </tr>\n",
       "  </thead>\n",
       "  <tbody>\n",
       "    <tr>\n",
       "      <th>142951</th>\n",
       "      <td>1</td>\n",
       "      <td>I've not been back to Las Vegas since 2002 in ...</td>\n",
       "    </tr>\n",
       "    <tr>\n",
       "      <th>147779</th>\n",
       "      <td>1</td>\n",
       "      <td>Bad services!!!!!!!</td>\n",
       "    </tr>\n",
       "    <tr>\n",
       "      <th>404031</th>\n",
       "      <td>2</td>\n",
       "      <td>Our family enjoys eating here. They have a fri...</td>\n",
       "    </tr>\n",
       "    <tr>\n",
       "      <th>41430</th>\n",
       "      <td>2</td>\n",
       "      <td>Very courteous and helpful. Made mailing my UP...</td>\n",
       "    </tr>\n",
       "    <tr>\n",
       "      <th>388517</th>\n",
       "      <td>2</td>\n",
       "      <td>Actual Date of Visit: 10/9/2011\\n\\nWhen I firs...</td>\n",
       "    </tr>\n",
       "  </tbody>\n",
       "</table>\n",
       "</div>"
      ],
      "text/plain": [
       "        Topic                                               Text\n",
       "142951      1  I've not been back to Las Vegas since 2002 in ...\n",
       "147779      1                                Bad services!!!!!!!\n",
       "404031      2  Our family enjoys eating here. They have a fri...\n",
       "41430       2  Very courteous and helpful. Made mailing my UP...\n",
       "388517      2  Actual Date of Visit: 10/9/2011\\n\\nWhen I firs..."
      ]
     },
     "execution_count": 32,
     "metadata": {},
     "output_type": "execute_result"
    }
   ],
   "source": [
    "yelp_review.head()"
   ]
  },
  {
   "cell_type": "code",
   "execution_count": 33,
   "id": "a38aff5f",
   "metadata": {},
   "outputs": [],
   "source": [
    "# Clean text data\n",
    "def clean_text(text):\n",
    "    text = text.translate(str.maketrans('', '', string.punctuation)).lower()\n",
    "    return ' '.join([word for word in text.split() if not word.isdigit() and len(word) > 3])\n",
    "\n",
    "yelp_review['clean_text'] = yelp_review['Text'].apply(clean_text)"
   ]
  },
  {
   "cell_type": "code",
   "execution_count": 34,
   "id": "064b1d86",
   "metadata": {},
   "outputs": [],
   "source": [
    "# Remove stopwords\n",
    "stop_words = set(stopwords.words('english'))\n",
    "yelp_review['clean_text'] = yelp_review['clean_text'].\\\n",
    "apply(lambda x: ' '.join([word for word in x.split() if word not in stop_words]))"
   ]
  },
  {
   "cell_type": "code",
   "execution_count": 35,
   "id": "d8551f84",
   "metadata": {},
   "outputs": [],
   "source": [
    "# Lemmatization\n",
    "def lemmatize(text):\n",
    "    doc = nlp(text)\n",
    "    return [token.lemma_ for token in doc]\n",
    "\n",
    "yelp_review['lemmatized_text'] = yelp_review['clean_text'].apply(lemmatize)"
   ]
  },
  {
   "cell_type": "code",
   "execution_count": 36,
   "id": "afa95af9",
   "metadata": {},
   "outputs": [],
   "source": [
    "# Create dictionary and document-term matrix\n",
    "dictionary = corpora.Dictionary(yelp_review['lemmatized_text'])\n",
    "doc_term_matrix = [dictionary.doc2bow(text) for text in yelp_review['lemmatized_text']]"
   ]
  },
  {
   "cell_type": "code",
   "execution_count": 37,
   "id": "2007feb4",
   "metadata": {},
   "outputs": [],
   "source": [
    "# Build LDA model\n",
    "lda_model = models.LdaModel(corpus=doc_term_matrix, \n",
    "                            id2word=dictionary, \n",
    "                            num_topics=10, passes=50, \n",
    "                            iterations=100)"
   ]
  },
  {
   "cell_type": "code",
   "execution_count": 38,
   "id": "cb896580",
   "metadata": {},
   "outputs": [
    {
     "data": {
      "text/plain": [
       "[(0,\n",
       "  '0.037*\"not\" + 0.020*\"do\" + 0.014*\"order\" + 0.014*\"time\" + 0.013*\"food\" + 0.013*\"place\" + 0.012*\"come\" + 0.011*\"go\" + 0.011*\"would\" + 0.011*\"wait\"'),\n",
       " (1,\n",
       "  '0.017*\"call\" + 0.016*\"not\" + 0.015*\"would\" + 0.015*\"tell\" + 0.012*\"do\" + 0.011*\"say\" + 0.011*\"service\" + 0.011*\"customer\" + 0.010*\"back\" + 0.010*\"time\"'),\n",
       " (2,\n",
       "  '0.116*\"coffee\" + 0.024*\"starbuck\" + 0.023*\"class\" + 0.013*\"carne\" + 0.013*\"asada\" + 0.010*\"studio\" + 0.009*\"yoga\" + 0.009*\"latte\" + 0.008*\"espresso\" + 0.008*\"joe\"'),\n",
       " (3,\n",
       "  '0.053*\"room\" + 0.029*\"hotel\" + 0.027*\"stay\" + 0.015*\"vegas\" + 0.012*\"club\" + 0.011*\"night\" + 0.011*\"floor\" + 0.010*\"pool\" + 0.010*\"casino\" + 0.010*\"strip\"'),\n",
       " (4,\n",
       "  '0.014*\"good\" + 0.014*\"order\" + 0.013*\"like\" + 0.012*\"not\" + 0.011*\"taste\" + 0.011*\"chicken\" + 0.010*\"fry\" + 0.010*\"sauce\" + 0.010*\"burger\" + 0.009*\"cheese\"'),\n",
       " (5,\n",
       "  '0.148*\"pizza\" + 0.018*\"crust\" + 0.010*\"slice\" + 0.009*\"raman\" + 0.007*\"delivery\" + 0.006*\"thin\" + 0.006*\"pepperoni\" + 0.006*\"topping\" + 0.006*\"cater\" + 0.005*\"mein\"'),\n",
       " (6,\n",
       "  '0.050*\"show\" + 0.015*\"theater\" + 0.013*\"ticket\" + 0.013*\"movie\" + 0.009*\"u00e0\" + 0.009*\"pour\" + 0.009*\"stage\" + 0.007*\"cirque\" + 0.006*\"instructor\" + 0.005*\"performance\"'),\n",
       " (7,\n",
       "  '0.041*\"food\" + 0.032*\"good\" + 0.026*\"great\" + 0.020*\"place\" + 0.019*\"service\" + 0.017*\"restaurant\" + 0.010*\"well\" + 0.010*\"price\" + 0.009*\"dish\" + 0.009*\"sushi\"'),\n",
       " (8,\n",
       "  '0.019*\"place\" + 0.014*\"good\" + 0.014*\"not\" + 0.014*\"like\" + 0.014*\"great\" + 0.010*\"you\" + 0.009*\"really\" + 0.009*\"well\" + 0.008*\"time\" + 0.008*\"re\"'),\n",
       " (9,\n",
       "  '0.015*\"boba\" + 0.012*\"yard\" + 0.008*\"prescription\" + 0.008*\"timeshare\" + 0.007*\"toy\" + 0.007*\"unpleasant\" + 0.007*\"jimmy\" + 0.006*\"cigar\" + 0.006*\"hospitality\" + 0.006*\"johns\"')]"
      ]
     },
     "execution_count": 38,
     "metadata": {},
     "output_type": "execute_result"
    }
   ],
   "source": [
    "# Print topics\n",
    "lda_model.print_topics()"
   ]
  },
  {
   "cell_type": "markdown",
   "id": "2ba5b55e",
   "metadata": {},
   "source": [
    "Metrics for the Model\n",
    "\n",
    "1. Perplexity - Perplexity is a measure of **how well a probability distribution or probability model predicts a sample.** In the context of topic modeling, perplexity measures how well a topic model predicts a held-out or unseen set of documents.\n",
    "\n",
    "**Interpretation:**\n",
    "\n",
    "* A **lower perplexity value indicates that the model is better** at predicting unseen data, suggesting that it has learned meaningful topics from the corpus.\n",
    "* **Higher perplexity values suggest that the model is less effective** at predicting unseen data, indicating that it may have overfit or failed to capture meaningful patterns in the data.\n",
    "\n",
    "2. Coherence - It measures the **interpretability or semantic consistency of the topics** generated by a topic model. It evaluates how closely related and meaningful the top words in each topic are.\n",
    "\n",
    "**Interpretation:**\n",
    "\n",
    "* **Higher coherence values indicate that the topics are more coherent and interpretable,** as the top words within each topic are more semantically related.\n",
    "* **Lower coherence values suggest that the topics are less coherent** and may contain unrelated or noisy words, making them less interpretable.\n",
    "\n",
    "### Gauging model performance:\n",
    "\n",
    "* Perplexity and coherence are complementary metrics used together to evaluate the quality of topic models.\n",
    "* A good topic model should have both low perplexity and high coherence values.\n",
    "\n",
    "However, there may be cases where optimizing one metric may adversely affect the other. Therefore, it's important to strike a balance between perplexity and coherence while fine-tuning the topic model."
   ]
  },
  {
   "cell_type": "code",
   "execution_count": 45,
   "id": "348dd3e8",
   "metadata": {},
   "outputs": [
    {
     "name": "stderr",
     "output_type": "stream",
     "text": [
      "<>:6: DeprecationWarning: invalid escape sequence '\\P'\n",
      "<>:6: DeprecationWarning: invalid escape sequence '\\P'\n",
      "C:\\Users\\mukul\\AppData\\Local\\Temp\\ipykernel_2140\\3878762637.py:6: DeprecationWarning: invalid escape sequence '\\P'\n",
      "  print('\\Perplexity: ', lda_model.log_perplexity(doc_term_matrix))\n"
     ]
    },
    {
     "name": "stdout",
     "output_type": "stream",
     "text": [
      "\\Perplexity:  -8.396597517921837\n"
     ]
    },
    {
     "name": "stderr",
     "output_type": "stream",
     "text": [
      "C:\\Users\\mukul\\anaconda3\\envs\\notebook\\lib\\site-packages\\gensim\\topic_coherence\\direct_confirmation_measure.py:204: RuntimeWarning: divide by zero encountered in scalar divide\n",
      "  m_lr_i = np.log(numerator / denominator)\n",
      "C:\\Users\\mukul\\anaconda3\\envs\\notebook\\lib\\site-packages\\gensim\\topic_coherence\\indirect_confirmation_measure.py:323: RuntimeWarning: invalid value encountered in scalar divide\n",
      "  return cv1.T.dot(cv2)[0, 0] / (_magnitude(cv1) * _magnitude(cv2))\n"
     ]
    },
    {
     "name": "stdout",
     "output_type": "stream",
     "text": [
      "Coherence:  nan\n"
     ]
    }
   ],
   "source": [
    "# calculate perplexity and coherence\n",
    "\n",
    "# Compute Coherence Score\n",
    "from gensim.models import CoherenceModel\n",
    "\n",
    "print('\\Perplexity: ', lda_model.log_perplexity(doc_term_matrix))  \n",
    " \n",
    "# calculate coherence\n",
    "coherence_model_lda = CoherenceModel(model=lda_model,\n",
    "                                     texts=doc_term_matrix, dictionary=dictionary , \n",
    "                                     coherence='c_v')\n",
    "coherence_lda = coherence_model_lda.get_coherence()\n",
    "print('Coherence: ', coherence_lda)"
   ]
  },
  {
   "cell_type": "code",
   "execution_count": null,
   "id": "83698f70",
   "metadata": {},
   "outputs": [],
   "source": []
  },
  {
   "cell_type": "code",
   "execution_count": null,
   "id": "5e66739b",
   "metadata": {},
   "outputs": [],
   "source": []
  }
 ],
 "metadata": {
  "kernelspec": {
   "display_name": "Python 3 (ipykernel)",
   "language": "python",
   "name": "python3"
  },
  "language_info": {
   "codemirror_mode": {
    "name": "ipython",
    "version": 3
   },
   "file_extension": ".py",
   "mimetype": "text/x-python",
   "name": "python",
   "nbconvert_exporter": "python",
   "pygments_lexer": "ipython3",
   "version": "3.10.13"
  }
 },
 "nbformat": 4,
 "nbformat_minor": 5
}
