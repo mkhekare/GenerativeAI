{
  "nbformat": 4,
  "nbformat_minor": 0,
  "metadata": {
    "colab": {
      "provenance": [],
      "authorship_tag": "ABX9TyM+B09u67l1LTv3en8S3l8R"
    },
    "kernelspec": {
      "name": "python3",
      "display_name": "Python 3"
    },
    "language_info": {
      "name": "python"
    }
  },
  "cells": [
    {
      "cell_type": "code",
      "execution_count": 23,
      "metadata": {
        "id": "SMIqfdnrbS6j"
      },
      "outputs": [],
      "source": [
        "#!pip install openai\n",
        "#! pip install langchain\n",
        "import os\n",
        "import openai\n",
        "import warnings\n",
        "warnings.filterwarnings(\"ignore\")"
      ]
    },
    {
      "cell_type": "code",
      "source": [
        "#Enter the Open API Key\n",
        "import os\n",
        "os.environ[\"OPENAI_API_KEY\"] = \"\""
      ],
      "metadata": {
        "id": "OTt2Q0y1c0aV"
      },
      "execution_count": 17,
      "outputs": []
    },
    {
      "cell_type": "code",
      "source": [
        "# Langchain\n",
        "from langchain import PromptTemplate\n",
        "\n",
        "demo_template='''I want you to act as a acting financial advisor for people.\n",
        "In an easy way, explain the basics of {financial_concept}.'''\n",
        "\n",
        "prompt=PromptTemplate(\n",
        "    input_variables=['financial_concept'],\n",
        "    template=demo_template)\n",
        "\n",
        "prompt.format(financial_concept='income tax')"
      ],
      "metadata": {
        "colab": {
          "base_uri": "https://localhost:8080/",
          "height": 35
        },
        "id": "3lntDlvDdIKS",
        "outputId": "84711aa7-0472-4f15-a1c2-f9dc440a6968"
      },
      "execution_count": 18,
      "outputs": [
        {
          "output_type": "execute_result",
          "data": {
            "text/plain": [
              "'I want you to act as a acting financial advisor for people.\\nIn an easy way, explain the basics of income tax.'"
            ],
            "application/vnd.google.colaboratory.intrinsic+json": {
              "type": "string"
            }
          },
          "metadata": {},
          "execution_count": 18
        }
      ]
    },
    {
      "cell_type": "code",
      "source": [
        "from langchain.llms import OpenAI\n",
        "from langchain.chains import LLMChain\n",
        "\n",
        "llm=OpenAI(temperature=0.7)\n",
        "chain1=LLMChain(llm=llm,prompt=prompt)"
      ],
      "metadata": {
        "id": "z4F5rIdDdVfN"
      },
      "execution_count": 19,
      "outputs": []
    },
    {
      "cell_type": "code",
      "source": [
        "print(chain1.run(\"economic landscape of india\"))"
      ],
      "metadata": {
        "colab": {
          "base_uri": "https://localhost:8080/"
        },
        "id": "N38eVFP4lazV",
        "outputId": "b21f0288-ea6c-4b37-cd38-b87b3cce4089"
      },
      "execution_count": 21,
      "outputs": [
        {
          "output_type": "stream",
          "name": "stdout",
          "text": [
            "\n",
            "\n",
            "As an acting financial advisor, I understand that it can be overwhelming to try to understand the economic landscape of India. But don't worry, I am here to break it down into simple terms for you.\n",
            "\n",
            "India is a rapidly developing country with a diverse economy. It is the seventh-largest economy in the world and has a GDP (Gross Domestic Product) of over $2.7 trillion. This means that India produces a lot of goods and services, which contributes to its overall economic growth.\n",
            "\n",
            "India has a mixed economy, meaning it has both private and government-owned businesses. The private sector is responsible for about two-thirds of the country's GDP, while the government plays a significant role in industries such as healthcare, education, and infrastructure.\n",
            "\n",
            "The Indian economy is primarily driven by the service sector, which accounts for about 55% of the GDP. This includes industries such as information technology, telecommunications, banking, and tourism. The manufacturing sector is the second-largest contributor to the GDP, followed by agriculture.\n",
            "\n",
            "One of the key factors that have contributed to India's economic growth is its large and young workforce. With a population of over 1.3 billion, India has a large pool of skilled and unskilled labor, making it an attractive destination for foreign investors.\n",
            "\n",
            "However\n"
          ]
        }
      ]
    },
    {
      "cell_type": "code",
      "source": [
        "print(chain1.run(\"There is lot of volatility during elections. How do you see economy moving if Modi Govt comes?\"))"
      ],
      "metadata": {
        "colab": {
          "base_uri": "https://localhost:8080/"
        },
        "id": "Zde0pCMEnBZ0",
        "outputId": "4e4201f2-290a-4ca4-e897-6ca021399718"
      },
      "execution_count": 29,
      "outputs": [
        {
          "output_type": "stream",
          "name": "stdout",
          "text": [
            "\n",
            "\n",
            "As a financial advisor, it is my job to help people make informed decisions about their money and investments. One important factor to consider when making financial decisions is the impact of elections on the economy.\n",
            "\n",
            "There can be a lot of volatility or fluctuations in the stock market and economy during election periods. This is because investors and businesses may be uncertain about the policies and changes that could come with a new government.\n",
            "\n",
            "In the case of a Modi government coming into power, it is important to look at their past economic policies and promises. Based on this, we can make some predictions about how the economy may move.\n",
            "\n",
            "Modi's government has a strong focus on economic growth and development. This has been reflected in their policies such as the implementation of GST and the Make in India initiative. If they continue to follow this path, we can expect to see a positive impact on the economy.\n",
            "\n",
            "Additionally, the Modi government has also shown a commitment to controlling inflation and improving the country's infrastructure. These efforts could lead to a more stable and efficient economy.\n",
            "\n",
            "However, it is also important to consider potential challenges and risks that could arise. For example, if the government faces difficulties in implementing their policies or if there is a global economic downturn, it could have a negative impact on the economy.\n",
            "\n",
            "Overall,\n"
          ]
        }
      ]
    },
    {
      "cell_type": "code",
      "source": [
        "print(chain1.run(\"Have you seen the BJP Manifesto. Can you share some highlights?\"))"
      ],
      "metadata": {
        "colab": {
          "base_uri": "https://localhost:8080/"
        },
        "id": "Od9hrUijnS_Y",
        "outputId": "d55bca3c-3340-430b-a224-ba7fba8cc5ca"
      },
      "execution_count": 30,
      "outputs": [
        {
          "output_type": "stream",
          "name": "stdout",
          "text": [
            "\n",
            "\n",
            "Of course, I would be happy to explain the basics of the BJP Manifesto and share some of its highlights. The BJP Manifesto is a document that outlines the political party's plans and promises for the country if they are elected into power. It serves as a guide for the party's policies and actions during their term in office.\n",
            "\n",
            "Some of the key highlights of the BJP Manifesto include:\n",
            "\n",
            "1. Economic Development: The party aims to achieve a $5 trillion economy by 2025 and create 10 million new jobs in the agricultural sector.\n",
            "\n",
            "2. Agriculture: The manifesto includes a promise to implement a pension scheme for small and marginal farmers, provide interest-free loans to farmers, and increase the minimum support price for crops.\n",
            "\n",
            "3. National Security: The party has promised to strengthen the country's defence capabilities, modernize the armed forces, and take a tougher stance against terrorism.\n",
            "\n",
            "4. Education: The BJP plans to increase the budget for education and establish new universities and institutions of excellence to promote research and innovation.\n",
            "\n",
            "5. Health Care: The manifesto includes a promise to provide universal health coverage and create a network of AIIMS-like hospitals in every state.\n",
            "\n",
            "6. Women Empowerment: The party has pledged to increase the participation of women in the workforce, provide free\n"
          ]
        }
      ]
    },
    {
      "cell_type": "code",
      "source": [
        "from langchain import PromptTemplate\n",
        "\n",
        "template='''In an easy way translate the following sentence '{sentence}' into {target_language}'''\n",
        "language_prompt = PromptTemplate(\n",
        "    input_variables=[\"sentence\",'target_language'],\n",
        "    template=template,\n",
        ")\n",
        "language_prompt.format(sentence=\"How are you\",target_language='hindi')"
      ],
      "metadata": {
        "colab": {
          "base_uri": "https://localhost:8080/",
          "height": 35
        },
        "id": "A4sm5lokdhYH",
        "outputId": "fdba7410-da4d-4e9f-fe06-4edd0b8f9784"
      },
      "execution_count": 14,
      "outputs": [
        {
          "output_type": "execute_result",
          "data": {
            "text/plain": [
              "\"In an easy way translate the following sentence 'How are you' into hindi\""
            ],
            "application/vnd.google.colaboratory.intrinsic+json": {
              "type": "string"
            }
          },
          "metadata": {},
          "execution_count": 14
        }
      ]
    },
    {
      "cell_type": "code",
      "source": [
        "chain2=LLMChain(llm=llm,prompt=language_prompt)\n",
        "\n",
        "chain2({'sentence':\"Hello How are you and how is life\",'target_language':'hindi'})"
      ],
      "metadata": {
        "colab": {
          "base_uri": "https://localhost:8080/"
        },
        "id": "Z5F7VBaWd2Wr",
        "outputId": "859134fc-dad7-4a53-c627-fbc51a63a6ce"
      },
      "execution_count": 25,
      "outputs": [
        {
          "output_type": "execute_result",
          "data": {
            "text/plain": [
              "{'sentence': 'Hello How are you and how is life',\n",
              " 'target_language': 'hindi',\n",
              " 'text': '\\n\\nनमस्ते, आप कैसे हैं और जीवन कैसा है?'}"
            ]
          },
          "metadata": {},
          "execution_count": 25
        }
      ]
    },
    {
      "cell_type": "markdown",
      "source": [
        "### What is few shot template\n",
        "\n",
        "A few-shot template refers to a method used in natural language processing (NLP) tasks, particularly in the context of language generation models like GPT (Generative Pre-trained Transformer), to generate text based on a few examples or prompts provided by the user.\n",
        "\n",
        "In a few-shot template, the user supplies a limited number of examples or prompts (typically ranging from one to a few) along with a specific task description or instruction, and the model is expected to generate coherent and contextually relevant text based on this input."
      ],
      "metadata": {
        "id": "RPeeKDPWmGZw"
      }
    },
    {
      "cell_type": "code",
      "source": [
        "from langchain import PromptTemplate, FewShotPromptTemplate\n",
        "\n",
        "# First, create the list of few shot examples.\n",
        "examples = [\n",
        "    {\"word\": \"happy\", \"antonym\": \"sad\"},\n",
        "    {\"word\": \"tall\", \"antonym\": \"short\"},\n",
        "]\n",
        "\n",
        "# Next, we specify the template to format the examples we have provided.\n",
        "# We use the `PromptTemplate` class for this.\n",
        "example_formatter_template = \"\"\"Word: {word}\n",
        "Antonym: {antonym}\n",
        "\"\"\"\n",
        "\n",
        "example_prompt = PromptTemplate(\n",
        "    input_variables=[\"word\", \"antonym\"],\n",
        "    template=example_formatter_template,\n",
        ")"
      ],
      "metadata": {
        "id": "5OW8CmMtd5c5"
      },
      "execution_count": 26,
      "outputs": []
    },
    {
      "cell_type": "code",
      "source": [
        "# Finally, we create the `FewShotPromptTemplate` object.\n",
        "few_shot_prompt = FewShotPromptTemplate(\n",
        "    # These are the examples we want to insert into the prompt.\n",
        "    examples=examples,\n",
        "    # This is how we want to format the examples when we insert them into the prompt.\n",
        "    example_prompt=example_prompt,\n",
        "    # The prefix is some text that goes before the examples in the prompt.\n",
        "    # Usually, this consists of intructions.\n",
        "    prefix=\"Give the antonym of every input\\n\",\n",
        "    # The suffix is some text that goes after the examples in the prompt.\n",
        "    # Usually, this is where the user input will go\n",
        "    suffix=\"Word: {input}\\nAntonym: \",\n",
        "    # The input variables are the variables that the overall prompt expects.\n",
        "    input_variables=[\"input\"],\n",
        "    # The example_separator is the string we will use to join the prefix, examples, and suffix together with.\n",
        "    example_separator=\"\\n\",\n",
        ")"
      ],
      "metadata": {
        "id": "g-rD4lwYl4-l"
      },
      "execution_count": 27,
      "outputs": []
    },
    {
      "cell_type": "code",
      "source": [
        "print(few_shot_prompt.format(input='big'))"
      ],
      "metadata": {
        "colab": {
          "base_uri": "https://localhost:8080/"
        },
        "id": "gVAHyJF-l734",
        "outputId": "177639f2-c9b7-4dc8-96c0-e2ffd55c0c15"
      },
      "execution_count": 28,
      "outputs": [
        {
          "output_type": "stream",
          "name": "stdout",
          "text": [
            "Give the antonym of every input\n",
            "\n",
            "Word: happy\n",
            "Antonym: sad\n",
            "\n",
            "Word: tall\n",
            "Antonym: short\n",
            "\n",
            "Word: big\n",
            "Antonym: \n"
          ]
        }
      ]
    },
    {
      "cell_type": "code",
      "source": [],
      "metadata": {
        "id": "7enlGQjbl9-z"
      },
      "execution_count": null,
      "outputs": []
    }
  ]
}