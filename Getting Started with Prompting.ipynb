{
  "nbformat": 4,
  "nbformat_minor": 0,
  "metadata": {
    "colab": {
      "provenance": [],
      "authorship_tag": "ABX9TyNE0os9ah0lpQEh+BT1PjYl",
      "include_colab_link": true
    },
    "kernelspec": {
      "name": "python3",
      "display_name": "Python 3"
    },
    "language_info": {
      "name": "python"
    }
  },
  "cells": [
    {
      "cell_type": "markdown",
      "metadata": {
        "id": "view-in-github",
        "colab_type": "text"
      },
      "source": [
        "<a href=\"https://colab.research.google.com/github/mukul-mschauhan/GenerativeAI/blob/main/Getting%20Started%20with%20Prompting.ipynb\" target=\"_parent\"><img src=\"https://colab.research.google.com/assets/colab-badge.svg\" alt=\"Open In Colab\"/></a>"
      ]
    },
    {
      "cell_type": "code",
      "execution_count": 5,
      "metadata": {
        "id": "yKFfA_WwUe2n"
      },
      "outputs": [],
      "source": [
        "from google.colab import userdata\n",
        "google_api = userdata.get('GOOGLE-API-KEY')"
      ]
    },
    {
      "cell_type": "code",
      "source": [
        "# Use the google gemini model\n",
        "#!pip install google-generativeai\n",
        "\n",
        "import google.generativeai as genai\n",
        "\n",
        "# Linking the API Key with the model....\n",
        "genai.configure(api_key = google_api)\n",
        "\n",
        "# Create the Model\n",
        "model = genai.GenerativeModel(\"gemini-pro\") # text:gemini-pro, images:gemini-1.5-flash\n",
        "flash_model = genai.GenerativeModel(\"gemini-1.5-flash\")\n"
      ],
      "metadata": {
        "id": "vsNJ49NTUnOE"
      },
      "execution_count": 9,
      "outputs": []
    },
    {
      "cell_type": "code",
      "source": [
        "from sklearn.ensemble import RandomForestClassifier\n",
        "rf = RandomForestClassifier() # Parameters"
      ],
      "metadata": {
        "id": "WyYv8wJPUnyY"
      },
      "execution_count": 10,
      "outputs": []
    },
    {
      "cell_type": "code",
      "source": [
        "# Sentiment Analysis\n",
        "\n",
        "text = '''This is a nice movie. Although it was slow in between but ending was amazing.\n",
        "Generate the Sentiment of the Text'''\n",
        "\n",
        "response = model.generate_content(text)\n",
        "print(response.text)"
      ],
      "metadata": {
        "colab": {
          "base_uri": "https://localhost:8080/",
          "height": 35
        },
        "id": "N8Hmo_h9W_LO",
        "outputId": "6338ddde-2b63-4e57-bf33-dfece860d930"
      },
      "execution_count": 11,
      "outputs": [
        {
          "output_type": "stream",
          "name": "stdout",
          "text": [
            "Positive\n"
          ]
        }
      ]
    },
    {
      "cell_type": "code",
      "source": [
        "# News Classification\n",
        "news = '''Classify the following news headline in the following categories:\n",
        "Finance, Healthcare, Politics, Disaster and Sports. Here is the headline -\n",
        "Google gearing up for Gemini 2.0 launch with new AI model in testing'''\n",
        "\n",
        "response = model.generate_content(news)\n",
        "print(response.text)"
      ],
      "metadata": {
        "colab": {
          "base_uri": "https://localhost:8080/",
          "height": 35
        },
        "id": "f9igp39bXs5h",
        "outputId": "00ada97d-5c94-4eaf-8178-9c11d9b0e7e7"
      },
      "execution_count": 12,
      "outputs": [
        {
          "output_type": "stream",
          "name": "stdout",
          "text": [
            "Finance\n"
          ]
        }
      ]
    },
    {
      "cell_type": "code",
      "source": [
        "# News Classification - Improving Prompts/Prompt Nuancing...\n",
        "\n",
        "# The key is to write your prompt in detail thinking about all the aspects in the\n",
        "# business so that the model is able to take better decision and come up with\n",
        "# a wise solutio/answer\n",
        "\n",
        "news = '''Classify the following news headline in the following categories:\n",
        "Finance, Healthcare, Politics, Disaster and Sports. If none of the categories\n",
        "are matching, use your own intelligence to classify the news headline.\n",
        "Here is the headline - Google gearing up for Gemini 2.0 launch with\n",
        "new AI model in testing'''\n",
        "\n",
        "response = model.generate_content(news)\n",
        "print(response.text)"
      ],
      "metadata": {
        "colab": {
          "base_uri": "https://localhost:8080/",
          "height": 35
        },
        "id": "NzBeZsS8YNIm",
        "outputId": "a8e8f5dc-d1e1-4993-87bf-39723e8c411a"
      },
      "execution_count": 13,
      "outputs": [
        {
          "output_type": "stream",
          "name": "stdout",
          "text": [
            "Technology\n"
          ]
        }
      ]
    },
    {
      "cell_type": "code",
      "source": [
        "# Maths...\n",
        "\n",
        "maths = '''Give me Domain and Range of Parabola equation y = x**2'''\n",
        "\n",
        "response = model.generate_content(maths)\n",
        "print(response.text)"
      ],
      "metadata": {
        "colab": {
          "base_uri": "https://localhost:8080/",
          "height": 178
        },
        "id": "TalVqzd0YjbW",
        "outputId": "310d808e-c7da-4c09-9631-b5ab83dc52a1"
      },
      "execution_count": 15,
      "outputs": [
        {
          "output_type": "stream",
          "name": "stdout",
          "text": [
            "**Domain:**\n",
            "\n",
            "* The domain of a parabola y=x^2 is all real numbers.\n",
            "* This means that any real value can be input into the function to produce a valid output.\n",
            "\n",
            "**Range:**\n",
            "\n",
            "* The range of a parabola y=x^2 is the set of all nonnegative real numbers, including zero.\n",
            "* This means that the output of the function will always be a nonnegative number.\n"
          ]
        }
      ]
    },
    {
      "cell_type": "code",
      "source": [
        "# Few Shot Prompting in SQL\n",
        "\n",
        "examples = [{'input': '''Get all the Employees from 'employee' table''',\n",
        "             'output':'''SELECT * FROM Employees'''},\n",
        "            {'input': '''Find Employees whose Salary is more than 50000''',\n",
        "             'output':'''SELECT * FROM employees WHERE Salary>50000'''}]\n",
        "\n",
        "prompt = 'Write a SQL Query to get the 2nd highest Salary of the Employee'\n",
        "\n",
        "response = model.generate_content(prompt+'\\n\\n{examples}\\n\\n'+str(examples))\n",
        "\n",
        "print(response.text)"
      ],
      "metadata": {
        "colab": {
          "base_uri": "https://localhost:8080/",
          "height": 178
        },
        "id": "ap1WpZySY_e1",
        "outputId": "b900ed50-8790-45ee-9a59-3360942a12c0"
      },
      "execution_count": 16,
      "outputs": [
        {
          "output_type": "stream",
          "name": "stdout",
          "text": [
            "```sql\n",
            "SELECT MAX(Salary) AS SecondHighestSalary\n",
            "FROM (\n",
            "    SELECT Salary,\n",
            "        ROW_NUMBER() OVER (ORDER BY Salary DESC) AS RowNum\n",
            "    FROM Employees\n",
            ") AS Subquery\n",
            "WHERE RowNum = 2;\n",
            "```\n"
          ]
        }
      ]
    },
    {
      "cell_type": "code",
      "source": [
        "# Chain of Thought::Pursue Masters from US or continue the Job...\n",
        "\n",
        "thought = '''Question - Should I pursue the Masters from USA or continue with\n",
        "my current job?\n",
        "\n",
        "**Assess the Present Situation** - Recently I got a job as a Data Scientist in a MNC\n",
        "and the pay is really decent given the fact that I am a fresher and dont have experience. So,\n",
        "overall it is a good start in life. My family is happy that I am finally able to do well and have\n",
        "become independent.\n",
        "\n",
        "However, I see the people in my company who went to abroad and pursued their masters and/or phd and\n",
        "now because they hold International Degrees from reputed colleges such as MIT or John Hopkins or Purdue,\n",
        "they are getting 10x more than what I earn.\n",
        "\n",
        "I am developing a keen sense of going abroad and pursue my studies and then come back for work.\n",
        "I personally feel it would be a good opportunity.\n",
        "I would have to shell over 10 Million in INR if I want to do something of that sort. Perhaps,\n",
        "I am also trying to explore the options of getting scholarship.\n",
        "\n",
        "Now, Since I dont come from IIT (premier institution in India) and hence, getting my profile\n",
        "selected at IVY Leagues is out of discussion.\n",
        "\n",
        "**Financial Situation** -  Finances are not a constraint at my end. Money is never a worry however,\n",
        "getting into IVY League is a worry.\n",
        "\n",
        "**Emotional Situation** - Apart from my worry of getting into IVY League,\n",
        "I have a girlfriend with whom I have a very steady relation and I dont want\n",
        "to leave her behind. Masters and phd will be a long duration and may be a\n",
        "long distance relationship might not work. I have asked her to come along\n",
        "but she cannot afford this kind of expense. I am emotionally struggling.\n",
        "\n",
        "Given all of this, I am in a dilemma what to do and what not to do. Could you help\n",
        "me here in providing a solution to this problem and please evaluate all the factors\n",
        "from a 360 degree perspective and give me a solution that is practical and enactable.'''\n",
        "\n",
        "response = model.generate_content(thought)\n",
        "print(response.text)"
      ],
      "metadata": {
        "colab": {
          "base_uri": "https://localhost:8080/",
          "height": 483
        },
        "id": "8d7TtGYdZ3Qh",
        "outputId": "a7d55d14-dd13-4b34-852a-97177365e22f"
      },
      "execution_count": 17,
      "outputs": [
        {
          "output_type": "stream",
          "name": "stdout",
          "text": [
            "**Factors to Consider:**\n",
            "\n",
            "* **Career Goals:** Pursuing a master's degree can enhance your career prospects, particularly if you aspire for leadership roles or highly specialized positions.\n",
            "* **Financial Implications:** Considering the significant cost (10 million INR) of studying in the US, ensure you can comfortably afford it or explore scholarship options.\n",
            "* **University Prestige:** While Ivy League schools are highly respected, consider other reputable universities that may offer comparable programs and opportunities.\n",
            "* **Return on Investment (ROI):** Evaluate the potential salary increase and career advancement that a master's degree may provide against the cost of the investment.\n",
            "* **Support System:** Maintaining a long-distance relationship while studying abroad can be challenging. Consider your girlfriend's financial and emotional well-being, as well as the impact on your relationship.\n",
            "\n",
            "**Potential Solutions:**\n",
            "\n",
            "* **Consider Other Universities:** Explore universities with strong programs in your field of interest, both in the US and abroad. Research their reputation, program offerings, and cost structure.\n",
            "* **Explore Scholarship Options:** Actively seek scholarships and fellowships to offset the financial burden. Contact potential universities and consult with organizations that offer financial aid.\n",
            "* **Plan for Your Relationship:** Discuss with your girlfriend the possibility of her accompanying you or explore alternative options such as a long-distance relationship or deferred marriage.\n",
            "* **Weigh the Pros and Cons:** Create a comprehensive list of the potential benefits and drawbacks of pursuing a master's degree. Consider your career aspirations, financial situation, and relationship dynamics.\n",
            "* **Seek Professional Advice:** Consult with an education or career counselor who can provide unbiased guidance and assist you in making an informed decision.\n",
            "\n",
            "**Practical and Enactable Solution:**\n",
            "\n",
            "Based on your situation, a practical and enactable solution could be:\n",
            "\n",
            "* Explore reputable universities beyond Ivy Leagues that offer strong data science programs.\n",
            "* Research scholarship opportunities and apply aggressively.\n",
            "* Communicate your decision to your girlfriend and discuss alternative relationship arrangements.\n",
            "* Make a well-informed decision based on a thorough evaluation of the factors above.\n",
            "* If you choose to pursue a master's degree, develop a financial plan and support system to ensure your emotional well-being and future success.\n"
          ]
        }
      ]
    },
    {
      "cell_type": "code",
      "source": [],
      "metadata": {
        "id": "bbmeHR-Jaj75"
      },
      "execution_count": null,
      "outputs": []
    }
  ]
}