{
  "nbformat": 4,
  "nbformat_minor": 0,
  "metadata": {
    "colab": {
      "provenance": [],
      "authorship_tag": "ABX9TyPMMJjzqM+f+rxoa2VaQqU+",
      "include_colab_link": true
    },
    "kernelspec": {
      "name": "python3",
      "display_name": "Python 3"
    },
    "language_info": {
      "name": "python"
    }
  },
  "cells": [
    {
      "cell_type": "markdown",
      "metadata": {
        "id": "view-in-github",
        "colab_type": "text"
      },
      "source": [
        "<a href=\"https://colab.research.google.com/github/mukul-mschauhan/GenerativeAI/blob/main/Fine_Tuning_of_LLM_Models.ipynb\" target=\"_parent\"><img src=\"https://colab.research.google.com/assets/colab-badge.svg\" alt=\"Open In Colab\"/></a>"
      ]
    },
    {
      "cell_type": "code",
      "execution_count": 1,
      "metadata": {
        "colab": {
          "base_uri": "https://localhost:8080/"
        },
        "id": "TCQ3l5XuUHBo",
        "outputId": "99cf8b51-ae65-4c41-f30f-aa618566adda"
      },
      "outputs": [
        {
          "output_type": "stream",
          "name": "stdout",
          "text": [
            "Collecting gradientai\n",
            "  Downloading gradientai-1.12.0-py3-none-any.whl (386 kB)\n",
            "\u001b[2K     \u001b[90m━━━━━━━━━━━━━━━━━━━━━━━━━━━━━━━━━━━━━━━━\u001b[0m \u001b[32m386.3/386.3 kB\u001b[0m \u001b[31m5.8 MB/s\u001b[0m eta \u001b[36m0:00:00\u001b[0m\n",
            "\u001b[?25hCollecting aenum>=3.1.11 (from gradientai)\n",
            "  Downloading aenum-3.1.15-py3-none-any.whl (137 kB)\n",
            "\u001b[2K     \u001b[90m━━━━━━━━━━━━━━━━━━━━━━━━━━━━━━━━━━━━━━━━\u001b[0m \u001b[32m137.6/137.6 kB\u001b[0m \u001b[31m8.0 MB/s\u001b[0m eta \u001b[36m0:00:00\u001b[0m\n",
            "\u001b[?25hCollecting pydantic<2.0.0,>=1.10.5 (from gradientai)\n",
            "  Downloading pydantic-1.10.15-cp310-cp310-manylinux_2_17_x86_64.manylinux2014_x86_64.whl (3.1 MB)\n",
            "\u001b[2K     \u001b[90m━━━━━━━━━━━━━━━━━━━━━━━━━━━━━━━━━━━━━━━━\u001b[0m \u001b[32m3.1/3.1 MB\u001b[0m \u001b[31m18.7 MB/s\u001b[0m eta \u001b[36m0:00:00\u001b[0m\n",
            "\u001b[?25hRequirement already satisfied: python-dateutil>=2.8.2 in /usr/local/lib/python3.10/dist-packages (from gradientai) (2.8.2)\n",
            "Requirement already satisfied: urllib3>=1.25.3 in /usr/local/lib/python3.10/dist-packages (from gradientai) (2.0.7)\n",
            "Requirement already satisfied: typing-extensions>=4.2.0 in /usr/local/lib/python3.10/dist-packages (from pydantic<2.0.0,>=1.10.5->gradientai) (4.11.0)\n",
            "Requirement already satisfied: six>=1.5 in /usr/local/lib/python3.10/dist-packages (from python-dateutil>=2.8.2->gradientai) (1.16.0)\n",
            "Installing collected packages: aenum, pydantic, gradientai\n",
            "  Attempting uninstall: pydantic\n",
            "    Found existing installation: pydantic 2.7.1\n",
            "    Uninstalling pydantic-2.7.1:\n",
            "      Successfully uninstalled pydantic-2.7.1\n",
            "Successfully installed aenum-3.1.15 gradientai-1.12.0 pydantic-1.10.15\n"
          ]
        }
      ],
      "source": [
        "# Workspace ID: 5ec283b5-56c4-4772-abc1-26b144d4cc83_workspace\n",
        "# Access Token: UgmlgYw1y8L5AlplrG1Is0hgVDX5fQj7\n",
        "\n",
        "!pip install gradientai --upgrade"
      ]
    },
    {
      "cell_type": "code",
      "source": [
        "import os\n",
        "\n",
        "os.environ[\"GRADIENT_WORKSPACE_ID\"] = \"5ec283b5-56c4-4772-abc1-26b144d4cc83_workspace\"\n",
        "os.environ[\"GRADIENT_ACCESS_TOKEN\"] = \"UgmlgYw1y8L5AlplrG1Is0hgVDX5fQj7\""
      ],
      "metadata": {
        "id": "nVK5DX_GVqH5"
      },
      "execution_count": 2,
      "outputs": []
    },
    {
      "cell_type": "code",
      "source": [
        "from gradientai import Gradient\n",
        "\n",
        "def main():\n",
        "    gradient = Gradient() # An instance of the Gradient class is created, to interact with the Gradient AI platform.\n",
        "    # Using get_base_model for obtaining the model used for fine tuning.\n",
        "    base_model = gradient.get_base_model(base_model_slug=\"nous-hermes2\") # Model for fine tuning.\n",
        "\n",
        "    new_model_adapter = base_model.create_model_adapter(\n",
        "        name=\"Mukulhmodel\"\n",
        "    )\n",
        "    print(f\"Created model adapter with id {new_model_adapter.id}\")\n",
        "\n",
        "  #### Fine Tuning####\n",
        "\n",
        "    sample_query = \"### Instruction: Who is Mukul Kr Singh Chauhan? \\n\\n ### Response:\"\n",
        "    print(f\"Asking: {sample_query}\")\n",
        "    ## Before Finetuning\n",
        "    completion = new_model_adapter.complete(query=sample_query, max_generated_token_count=100).generated_output\n",
        "    print(f\"Generated(before fine tuning): {completion}\")\n",
        "\n",
        "    samples=[\n",
        "        {\"inputs\":\"### Instruction: Who is Mukul Kr Singh Chauhan? \\n\\n### Response: Mukul is a mentor and an employee of Great Learning who teaches Data Science,AI And LLM.\"},\n",
        "        {\"inputs\":\"### Instruction: Who is this person named Mukul Kr Singh Chauhan? \\n\\n### Response: Mukul Kr Singh Chauhan Likes Data Science and he is also a mentor\"},\n",
        "        {\"inputs\":\"### Instruction: What do you know about Mukul Kr Singh Chauhan? \\n\\n### Response: Mukul Kr Singh Chauhan is a popular name who specializes in the field of Data Science and his company name is Great Learning\"},\n",
        "        {\"inputs\":\"### Instruction: Can you tell me about MukulKr Singh Chauhan? \\n\\n### Response: Mukul Kr Singh Chauhan is a trainer, content creator who loves Data Science And AI and LLM's\"}\n",
        "    ]\n",
        "\n",
        "    ## Lets define parameters for finetuning\n",
        "    num_epochs=3\n",
        "    count=0\n",
        "    while count<num_epochs:\n",
        "      print(f\"Fine tuning the model with iteration {count + 1}\")\n",
        "      new_model_adapter.fine_tune(samples=samples)\n",
        "      count=count+1\n",
        "\n",
        "    #after fine tuning\n",
        "    completion = new_model_adapter.complete(query=sample_query, max_generated_token_count=100).generated_output\n",
        "    print(f\"Generated(after fine tuning): {completion}\")\n",
        "    new_model_adapter.delete()\n",
        "    gradient.close()\n",
        "\n",
        "if __name__ == \"__main__\":\n",
        "    main()"
      ],
      "metadata": {
        "colab": {
          "base_uri": "https://localhost:8080/"
        },
        "id": "yTzeUZciV-HS",
        "outputId": "932f1ad4-8d7a-4526-faa1-673e3640fc9b"
      },
      "execution_count": 7,
      "outputs": [
        {
          "metadata": {
            "tags": null
          },
          "name": "stdout",
          "output_type": "stream",
          "text": [
            "Created model adapter with id 5a60ffed-8c30-4800-a2e0-1f0fd0b1b984_model_adapter\n",
            "Asking: ### Instruction: Who is Mukul Kr Singh Chauhan? \n",
            "\n",
            " ### Response:\n",
            "Generated(before fine tuning):  Mukul Kr Singh Chauhan is an Indian politician and a member of the Bharatiya Janata Party (BJP). He is currently serving as the Member of Parliament (MP) from the Fatehpur Sikri constituency in the Lok Sabha, the lower house of the Indian Parliament. Prior to his career in politics, he was a civil servant and has also served as the District Magistrate of Agra.\n",
            "Fine tuning the model with iteration 1\n",
            "Fine tuning the model with iteration 2\n",
            "Fine tuning the model with iteration 3\n",
            "Generated(after fine tuning):  Mukul Kr Singh Chauhan is a well-known name in the field of Data Science and AI. He is a mentor, teacher, and an influencer in the field of Data Science and AI. He is the founder of Great Learning, which is an institute that provides courses and training in Data Science, AI, and other related fields. Mukul is also a popular speaker and has delivered talks and lectures at various conferences and events. He\n"
          ]
        }
      ]
    },
    {
      "cell_type": "code",
      "source": [],
      "metadata": {
        "id": "cZAJM0vRWEDT"
      },
      "execution_count": null,
      "outputs": []
    }
  ]
}